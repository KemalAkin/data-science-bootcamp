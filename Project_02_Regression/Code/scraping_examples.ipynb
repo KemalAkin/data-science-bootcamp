{
 "cells": [
  {
   "cell_type": "code",
   "execution_count": 1,
   "metadata": {},
   "outputs": [],
   "source": [
    "from urllib.request import urlopen\n",
    "import requests\n",
    "from bs4 import BeautifulSoup as bts\n",
    "import pandas as pd\n",
    "import re\n",
    "import numpy as np\n",
    "import time\n",
    "import random\n",
    "import pprint"
   ]
  },
  {
   "cell_type": "code",
   "execution_count": null,
   "metadata": {},
   "outputs": [],
   "source": [
    "\"\"\"\n",
    "# \n",
    "def getAndParseURL(url):\n",
    "    result = requests.get(url, headers={\"User-Agent\": \"Safari/537.36.\" }) #\"Mozilla/5.0\"}) # Safari/537.36. Chrome/103.0.0.0\n",
    "    soup = bts(result.text, \"html.parser\")\n",
    "    return soup\n",
    "\"\"\""
   ]
  },
  {
   "cell_type": "code",
   "execution_count": 3,
   "metadata": {},
   "outputs": [],
   "source": [
    "# I always create alternative user_agents_list and randomly choose one of them in order not to get banned. \n",
    "url = \"https://www.emlakjet.com/satilik-konut/istanbul/2/\"\n",
    "\n",
    "user_agents_list = [\n",
    "    'Mozilla/5.0 (iPad; CPU OS 12_2 like Mac OS X) AppleWebKit/605.1.15 (KHTML, like Gecko) Mobile/15E148',\n",
    "    'Mozilla/5.0 (Macintosh; Intel Mac OS X 10_15_7) AppleWebKit/537.36 (KHTML, like Gecko) Chrome/99.0.4844.83 Safari/537.36',\n",
    "    'Mozilla/5.0 (Windows NT 10.0; Win64; x64) AppleWebKit/537.36 (KHTML, like Gecko) Chrome/99.0.4844.51 Safari/537.36'\n",
    "]\n",
    "\n",
    "agent = {'User-Agent': random.choice(user_agents_list)}\n",
    "\n",
    "html_text = requests.get(url, headers=agent).text"
   ]
  },
  {
   "cell_type": "code",
   "execution_count": 4,
   "metadata": {},
   "outputs": [],
   "source": [
    "soup = bts(html_text, \"html.parser\")\n",
    "\n",
    "#print(soup.prettify())"
   ]
  },
  {
   "cell_type": "code",
   "execution_count": 5,
   "metadata": {},
   "outputs": [],
   "source": [
    "hrefs = soup.find_all('a',{'class':'_3qUI9q'})"
   ]
  },
  {
   "cell_type": "code",
   "execution_count": 6,
   "metadata": {},
   "outputs": [
    {
     "name": "stdout",
     "output_type": "stream",
     "text": [
      "I have found 30 advert, an example of them is given below: \n",
      " http://www.emlakjet.com/ilan/derin-yapi-dan-denize-sifir-site-ici-muhtesem-tripleks-villalar-12573193/\n"
     ]
    }
   ],
   "source": [
    "links = []\n",
    "for link in soup.find_all('a',{'class':'_3qUI9q'}):\n",
    "    links.append('http://www.emlakjet.com' + link.get('href'))\n",
    "\n",
    "print(f\"I have found {len(links)} advert, an example of them is given below: \\n {links[0]}\")\n",
    "\n"
   ]
  },
  {
   "cell_type": "code",
   "execution_count": 7,
   "metadata": {},
   "outputs": [],
   "source": [
    "html_text = requests.get(links[0], headers=agent).text\n",
    "\n",
    "soup = bts(html_text, \"html.parser\")\n",
    "\n",
    "#print(soup.prettify())"
   ]
  },
  {
   "cell_type": "code",
   "execution_count": 8,
   "metadata": {},
   "outputs": [],
   "source": [
    "props = soup.find_all('div',{'class':'_1bVOdb'}) "
   ]
  },
  {
   "cell_type": "code",
   "execution_count": 9,
   "metadata": {},
   "outputs": [
    {
     "name": "stdout",
     "output_type": "stream",
     "text": [
      "I have found many props, an example of them is given below:\n",
      "İlan Numarası: 12573193\n",
      "İlan Güncelleme Tarihi: 23 Ocak 2023\n",
      "Kategorisi: Satılık\n",
      "Brüt Metrekare: 700 M2\n",
      "Binanın Yaşı: 0 (Yeni)\n",
      "Binanın Kat Sayısı: 3\n",
      "Kullanım Durumu: Boş\n",
      "Yatırıma Uygunluk: Yatırıma Uygun\n",
      "Yapı Tipi: Betonarme\n",
      "İpotek Durumu: Yok\n",
      "Eşya Durumu: Boş\n",
      "Takas: Var\n",
      "Balkon Durumu: Var\n",
      "WC Sayısı: 3\n",
      "Görüntülü Gezilebilir mi?: Hayır\n",
      "İlan Oluşturma Tarihi: 23 Ocak 2023\n",
      "Türü: Konut\n",
      "Net Metrekare: 500 M2\n",
      "Oda Sayısı: 6+2\n",
      "Bulunduğu Kat: Villa Tipi\n",
      "Isıtma Tipi: Kombi Doğalgaz\n",
      "Krediye Uygunluk: Krediye Uygun\n",
      "Yapı Durumu: Sıfır\n",
      "Tapu Durumu: Kat Mülkiyeti\n",
      "Site İçerisinde: Hayır\n",
      "Kira Getirisi: 25000 TL\n",
      "Banyo Sayısı: 5\n",
      "Balkon Sayısı: 3\n",
      "Fiyat Durumu: Genel Fiyat\n"
     ]
    }
   ],
   "source": [
    "props = []\n",
    "for prop in soup.find_all('div',{'class':'_1bVOdb'}):\n",
    "    props.append(prop.get_text())\n",
    "\n",
    "print(f\"I have found many props, an example of them is given below:\")\n",
    "\n",
    "prop_name = props[0: :2]\n",
    "prop_value = props[1: :2]\n",
    "\n",
    "for i in range(len(prop_name)):\n",
    "    print(prop_name[i] + ': '+ prop_value[i])"
   ]
  },
  {
   "cell_type": "code",
   "execution_count": 10,
   "metadata": {},
   "outputs": [
    {
     "data": {
      "text/html": [
       "<div>\n",
       "<style scoped>\n",
       "    .dataframe tbody tr th:only-of-type {\n",
       "        vertical-align: middle;\n",
       "    }\n",
       "\n",
       "    .dataframe tbody tr th {\n",
       "        vertical-align: top;\n",
       "    }\n",
       "\n",
       "    .dataframe thead th {\n",
       "        text-align: right;\n",
       "    }\n",
       "</style>\n",
       "<table border=\"1\" class=\"dataframe\">\n",
       "  <thead>\n",
       "    <tr style=\"text-align: right;\">\n",
       "      <th></th>\n",
       "      <th>İlan Numarası</th>\n",
       "      <th>İlan Güncelleme Tarihi</th>\n",
       "      <th>Kategorisi</th>\n",
       "      <th>Brüt Metrekare</th>\n",
       "      <th>Binanın Yaşı</th>\n",
       "      <th>Binanın Kat Sayısı</th>\n",
       "      <th>Kullanım Durumu</th>\n",
       "      <th>Yatırıma Uygunluk</th>\n",
       "      <th>Yapı Tipi</th>\n",
       "      <th>İpotek Durumu</th>\n",
       "      <th>...</th>\n",
       "      <th>Bulunduğu Kat</th>\n",
       "      <th>Isıtma Tipi</th>\n",
       "      <th>Krediye Uygunluk</th>\n",
       "      <th>Yapı Durumu</th>\n",
       "      <th>Tapu Durumu</th>\n",
       "      <th>Site İçerisinde</th>\n",
       "      <th>Kira Getirisi</th>\n",
       "      <th>Banyo Sayısı</th>\n",
       "      <th>Balkon Sayısı</th>\n",
       "      <th>Fiyat Durumu</th>\n",
       "    </tr>\n",
       "  </thead>\n",
       "  <tbody>\n",
       "    <tr>\n",
       "      <th>0</th>\n",
       "      <td>12573193</td>\n",
       "      <td>23 Ocak 2023</td>\n",
       "      <td>Satılık</td>\n",
       "      <td>700 M2</td>\n",
       "      <td>0 (Yeni)</td>\n",
       "      <td>3</td>\n",
       "      <td>Boş</td>\n",
       "      <td>Yatırıma Uygun</td>\n",
       "      <td>Betonarme</td>\n",
       "      <td>Yok</td>\n",
       "      <td>...</td>\n",
       "      <td>Villa Tipi</td>\n",
       "      <td>Kombi Doğalgaz</td>\n",
       "      <td>Krediye Uygun</td>\n",
       "      <td>Sıfır</td>\n",
       "      <td>Kat Mülkiyeti</td>\n",
       "      <td>Hayır</td>\n",
       "      <td>25000 TL</td>\n",
       "      <td>5</td>\n",
       "      <td>3</td>\n",
       "      <td>Genel Fiyat</td>\n",
       "    </tr>\n",
       "  </tbody>\n",
       "</table>\n",
       "<p>1 rows × 29 columns</p>\n",
       "</div>"
      ],
      "text/plain": [
       "  İlan Numarası İlan Güncelleme Tarihi Kategorisi Brüt Metrekare Binanın Yaşı  \\\n",
       "0      12573193           23 Ocak 2023    Satılık         700 M2     0 (Yeni)   \n",
       "\n",
       "  Binanın Kat Sayısı Kullanım Durumu Yatırıma Uygunluk  Yapı Tipi  \\\n",
       "0                  3             Boş    Yatırıma Uygun  Betonarme   \n",
       "\n",
       "  İpotek Durumu  ... Bulunduğu Kat     Isıtma Tipi Krediye Uygunluk  \\\n",
       "0           Yok  ...    Villa Tipi  Kombi Doğalgaz    Krediye Uygun   \n",
       "\n",
       "  Yapı Durumu    Tapu Durumu Site İçerisinde Kira Getirisi Banyo Sayısı  \\\n",
       "0       Sıfır  Kat Mülkiyeti           Hayır      25000 TL            5   \n",
       "\n",
       "  Balkon Sayısı Fiyat Durumu  \n",
       "0             3  Genel Fiyat  \n",
       "\n",
       "[1 rows x 29 columns]"
      ]
     },
     "execution_count": 10,
     "metadata": {},
     "output_type": "execute_result"
    }
   ],
   "source": [
    "pd.DataFrame(np.reshape(prop_value,(1,29)),columns = prop_name)"
   ]
  },
  {
   "cell_type": "code",
   "execution_count": null,
   "metadata": {},
   "outputs": [],
   "source": []
  }
 ],
 "metadata": {
  "kernelspec": {
   "display_name": "Python 3",
   "language": "python",
   "name": "python3"
  },
  "language_info": {
   "codemirror_mode": {
    "name": "ipython",
    "version": 3
   },
   "file_extension": ".py",
   "mimetype": "text/x-python",
   "name": "python",
   "nbconvert_exporter": "python",
   "pygments_lexer": "ipython3",
   "version": "3.10.7"
  },
  "orig_nbformat": 4,
  "vscode": {
   "interpreter": {
    "hash": "9d4cf3646afb423126a22615235f27fe08b5580b0419a9fc25c56e523c1abb8a"
   }
  }
 },
 "nbformat": 4,
 "nbformat_minor": 2
}
