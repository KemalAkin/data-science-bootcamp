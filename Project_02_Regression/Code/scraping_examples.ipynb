{
 "cells": [
  {
   "cell_type": "code",
   "execution_count": 1,
   "metadata": {},
   "outputs": [],
   "source": [
    "from urllib.request import urlopen\n",
    "import requests\n",
    "from bs4 import BeautifulSoup as bts\n",
    "import pandas as pd\n",
    "import re\n",
    "import numpy as np\n",
    "import time\n",
    "import random\n",
    "import pprint"
   ]
  },
  {
   "cell_type": "code",
   "execution_count": null,
   "metadata": {},
   "outputs": [],
   "source": [
    "\"\"\"\n",
    "# \n",
    "def getAndParseURL(url):\n",
    "    result = requests.get(url, headers={\"User-Agent\": \"Safari/537.36.\" }) #\"Mozilla/5.0\"}) # Safari/537.36. Chrome/103.0.0.0\n",
    "    soup = bts(result.text, \"html.parser\")\n",
    "    return soup\n",
    "\"\"\""
   ]
  },
  {
   "cell_type": "code",
   "execution_count": 2,
   "metadata": {},
   "outputs": [],
   "source": [
    "# I always create alternative user_agents_list and randomly choose one of them in order not to get banned. \n",
    "url = \"https://www.emlakjet.com/satilik-konut/istanbul/2/\"\n",
    "\n",
    "user_agents_list = [\n",
    "    'Mozilla/5.0 (iPad; CPU OS 12_2 like Mac OS X) AppleWebKit/605.1.15 (KHTML, like Gecko) Mobile/15E148',\n",
    "    'Mozilla/5.0 (Macintosh; Intel Mac OS X 10_15_7) AppleWebKit/537.36 (KHTML, like Gecko) Chrome/99.0.4844.83 Safari/537.36',\n",
    "    'Mozilla/5.0 (Windows NT 10.0; Win64; x64) AppleWebKit/537.36 (KHTML, like Gecko) Chrome/99.0.4844.51 Safari/537.36'\n",
    "]\n",
    "\n",
    "agent = {'User-Agent': random.choice(user_agents_list)}\n",
    "\n",
    "html_text = requests.get(url, headers=agent).text"
   ]
  },
  {
   "cell_type": "code",
   "execution_count": 3,
   "metadata": {},
   "outputs": [],
   "source": [
    "soup = bts(html_text, \"html.parser\")\n",
    "\n",
    "#print(soup.prettify())"
   ]
  },
  {
   "cell_type": "code",
   "execution_count": 4,
   "metadata": {},
   "outputs": [],
   "source": [
    "hrefs = soup.find_all('a',{'class':'_3qUI9q'})"
   ]
  },
  {
   "cell_type": "code",
   "execution_count": 5,
   "metadata": {},
   "outputs": [
    {
     "name": "stdout",
     "output_type": "stream",
     "text": [
      "I have found 30 advert, an example of them is given below: \n",
      " http://www.emlakjet.com/ilan/yilmaz-gayrimenkulden-21-85-m-kiracili-alti-yillik-yuksek-giris-12574265/\n"
     ]
    }
   ],
   "source": [
    "links = []\n",
    "for link in soup.find_all('a',{'class':'_3qUI9q'}):\n",
    "    links.append('http://www.emlakjet.com' + link.get('href'))\n",
    "\n",
    "print(f\"I have found {len(links)} advert, an example of them is given below: \\n {links[0]}\")\n",
    "\n"
   ]
  },
  {
   "cell_type": "code",
   "execution_count": 6,
   "metadata": {},
   "outputs": [],
   "source": [
    "html_text = requests.get(links[0], headers=agent).text\n",
    "\n",
    "soup = bts(html_text, \"html.parser\")\n",
    "\n",
    "#print(soup.prettify())"
   ]
  },
  {
   "cell_type": "code",
   "execution_count": 7,
   "metadata": {},
   "outputs": [],
   "source": [
    "props = soup.find_all('div',{'class':'_1bVOdb'}) "
   ]
  },
  {
   "cell_type": "code",
   "execution_count": 8,
   "metadata": {},
   "outputs": [
    {
     "name": "stdout",
     "output_type": "stream",
     "text": [
      "I have found many props, an example of them is given below:\n",
      "İlan Numarası: 12574265\n",
      "İlan Güncelleme Tarihi: 23 Ocak 2023\n",
      "Kategorisi: Satılık\n",
      "Brüt Metrekare: 85 M2\n",
      "Binanın Yaşı: 4\n",
      "Binanın Kat Sayısı: 5\n",
      "Kullanım Durumu: Kiracı Oturuyor\n",
      "Site İçerisinde: Hayır\n",
      "Banyo Sayısı: 1\n",
      "İlan Oluşturma Tarihi: 23 Ocak 2023\n",
      "Türü: Konut\n",
      "Net Metrekare: 75 M2\n",
      "Oda Sayısı: 2+1\n",
      "Bulunduğu Kat: Yüksek Giriş\n",
      "Isıtma Tipi: Kombi Doğalgaz\n",
      "Krediye Uygunluk: Krediye Uygun\n",
      "Kira Getirisi: 5000 TL\n",
      "Fiyat Durumu: Genel Fiyat\n"
     ]
    }
   ],
   "source": [
    "props = []\n",
    "for prop in soup.find_all('div',{'class':'_1bVOdb'}):\n",
    "    props.append(prop.get_text())\n",
    "\n",
    "print(f\"I have found many props, an example of them is given below:\")\n",
    "\n",
    "prop_name = props[0: :2]\n",
    "prop_value = props[1: :2]\n",
    "\n",
    "for i in range(len(prop_name)):\n",
    "    print(prop_name[i] + ': '+ prop_value[i])"
   ]
  },
  {
   "cell_type": "code",
   "execution_count": 11,
   "metadata": {},
   "outputs": [
    {
     "data": {
      "text/html": [
       "<div>\n",
       "<style scoped>\n",
       "    .dataframe tbody tr th:only-of-type {\n",
       "        vertical-align: middle;\n",
       "    }\n",
       "\n",
       "    .dataframe tbody tr th {\n",
       "        vertical-align: top;\n",
       "    }\n",
       "\n",
       "    .dataframe thead th {\n",
       "        text-align: right;\n",
       "    }\n",
       "</style>\n",
       "<table border=\"1\" class=\"dataframe\">\n",
       "  <thead>\n",
       "    <tr style=\"text-align: right;\">\n",
       "      <th></th>\n",
       "      <th>İlan Numarası</th>\n",
       "      <th>İlan Güncelleme Tarihi</th>\n",
       "      <th>Kategorisi</th>\n",
       "      <th>Brüt Metrekare</th>\n",
       "      <th>Binanın Yaşı</th>\n",
       "      <th>Binanın Kat Sayısı</th>\n",
       "      <th>Kullanım Durumu</th>\n",
       "      <th>Site İçerisinde</th>\n",
       "      <th>Banyo Sayısı</th>\n",
       "      <th>İlan Oluşturma Tarihi</th>\n",
       "      <th>Türü</th>\n",
       "      <th>Net Metrekare</th>\n",
       "      <th>Oda Sayısı</th>\n",
       "      <th>Bulunduğu Kat</th>\n",
       "      <th>Isıtma Tipi</th>\n",
       "      <th>Krediye Uygunluk</th>\n",
       "      <th>Kira Getirisi</th>\n",
       "      <th>Fiyat Durumu</th>\n",
       "    </tr>\n",
       "  </thead>\n",
       "  <tbody>\n",
       "    <tr>\n",
       "      <th>0</th>\n",
       "      <td>12574265</td>\n",
       "      <td>23 Ocak 2023</td>\n",
       "      <td>Satılık</td>\n",
       "      <td>85 M2</td>\n",
       "      <td>4</td>\n",
       "      <td>5</td>\n",
       "      <td>Kiracı Oturuyor</td>\n",
       "      <td>Hayır</td>\n",
       "      <td>1</td>\n",
       "      <td>23 Ocak 2023</td>\n",
       "      <td>Konut</td>\n",
       "      <td>75 M2</td>\n",
       "      <td>2+1</td>\n",
       "      <td>Yüksek Giriş</td>\n",
       "      <td>Kombi Doğalgaz</td>\n",
       "      <td>Krediye Uygun</td>\n",
       "      <td>5000 TL</td>\n",
       "      <td>Genel Fiyat</td>\n",
       "    </tr>\n",
       "  </tbody>\n",
       "</table>\n",
       "</div>"
      ],
      "text/plain": [
       "  İlan Numarası İlan Güncelleme Tarihi Kategorisi Brüt Metrekare Binanın Yaşı  \\\n",
       "0      12574265           23 Ocak 2023    Satılık          85 M2            4   \n",
       "\n",
       "  Binanın Kat Sayısı  Kullanım Durumu Site İçerisinde Banyo Sayısı  \\\n",
       "0                  5  Kiracı Oturuyor           Hayır            1   \n",
       "\n",
       "  İlan Oluşturma Tarihi   Türü Net Metrekare Oda Sayısı Bulunduğu Kat  \\\n",
       "0          23 Ocak 2023  Konut         75 M2        2+1  Yüksek Giriş   \n",
       "\n",
       "      Isıtma Tipi Krediye Uygunluk Kira Getirisi Fiyat Durumu  \n",
       "0  Kombi Doğalgaz    Krediye Uygun       5000 TL  Genel Fiyat  "
      ]
     },
     "execution_count": 11,
     "metadata": {},
     "output_type": "execute_result"
    }
   ],
   "source": [
    "pd.DataFrame(np.reshape(prop_value,(1,18)),columns = prop_name)"
   ]
  },
  {
   "cell_type": "code",
   "execution_count": null,
   "metadata": {},
   "outputs": [],
   "source": []
  }
 ],
 "metadata": {
  "kernelspec": {
   "display_name": "Python 3.11.0 64-bit",
   "language": "python",
   "name": "python3"
  },
  "language_info": {
   "codemirror_mode": {
    "name": "ipython",
    "version": 3
   },
   "file_extension": ".py",
   "mimetype": "text/x-python",
   "name": "python",
   "nbconvert_exporter": "python",
   "pygments_lexer": "ipython3",
   "version": "3.11.0"
  },
  "orig_nbformat": 4,
  "vscode": {
   "interpreter": {
    "hash": "aee8b7b246df8f9039afb4144a1f6fd8d2ca17a180786b69acc140d282b71a49"
   }
  }
 },
 "nbformat": 4,
 "nbformat_minor": 2
}
