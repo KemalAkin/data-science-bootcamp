{
 "cells": [
  {
   "cell_type": "code",
   "execution_count": 5,
   "metadata": {},
   "outputs": [],
   "source": [
    "# -*- coding: utf-8 -*-\n",
    "\"\"\"\n",
    "Created on Mon Jan 25, 2023\n",
    "@author: Kemal\n",
    "\"\"\"\n",
    "\n",
    "import requests\n",
    "from bs4 import BeautifulSoup as bs\n",
    "\n",
    "import pandas as pd\n",
    "import numpy as np\n",
    "import matplotlib.pyplot as plt\n",
    "import seaborn as sns\n",
    "\n",
    "from datetime import datetime\n",
    "import time\n",
    "import random\n",
    "import pprint\n",
    "\n",
    "import os\n",
    "import subprocess"
   ]
  },
  {
   "cell_type": "code",
   "execution_count": 6,
   "metadata": {},
   "outputs": [],
   "source": [
    "'''\n",
    "Globally create alternative user_agents_list and randomly choose one of them in order NOT to get banned. \n",
    "'''\n",
    "user_agents_list = [\n",
    "    'Mozilla/5.0 (iPad; CPU OS 12_2 like Mac OS X) AppleWebKit/605.1.15 (KHTML, like Gecko) Mobile/15E148',\n",
    "    'Mozilla/5.0 (Macintosh; Intel Mac OS X 10_15_7) AppleWebKit/537.36 (KHTML, like Gecko) Chrome/99.0.4844.83 Safari/537.36',\n",
    "    'Mozilla/5.0 (Windows NT 10.0; Win64; x64) AppleWebKit/537.36 (KHTML, like Gecko) Chrome/99.0.4844.51 Safari/537.36'\n",
    "]\n",
    "\n",
    "sleep_time_list = [0.1, 0.3, 0.5, 0.7, 1, 1.3, 1.5, 1.7]"
   ]
  },
  {
   "cell_type": "code",
   "execution_count": 7,
   "metadata": {},
   "outputs": [],
   "source": [
    "'''\n",
    "Create a function that sends request to an URL and parses the response\n",
    "\n",
    "Parameters: \n",
    "    url: str\n",
    "        URL to send request\n",
    "\n",
    "    check: boolean\n",
    "        Use to check the connection (default: false)\n",
    "\n",
    "Returns: \n",
    "    r: BeautifulSoap object\n",
    "        Response of the request\n",
    "'''\n",
    "\n",
    "def parse_request(url, check = False):\n",
    "    # Randomly chose an agent\n",
    "    agent = {'User-Agent': random.choice(user_agents_list)}\n",
    "    \n",
    "    # Send request to page\n",
    "    response = requests.get(url, headers=agent)\n",
    "\n",
    "    #time.sleep(random.choice(sleep_time_list))\n",
    "\n",
    "    if check == True:\n",
    "        # Control the status\n",
    "        stat_code = response.status_code\n",
    "        \n",
    "        if stat_code == 200:\n",
    "            print(f'Response status: 200. Response has received succesfully.')\n",
    "        else:\n",
    "            print('Check your request again.')\n",
    "\n",
    "    # Take the html text\n",
    "    html_text = response.text    \n",
    "    \n",
    "    # Convert to BeautifulSoap object:\n",
    "    r = bs(html_text, \"html.parser\")\n",
    "\n",
    "    return r"
   ]
  },
  {
   "cell_type": "code",
   "execution_count": 8,
   "metadata": {},
   "outputs": [
    {
     "name": "stdout",
     "output_type": "stream",
     "text": [
      "Response status: 200. Response has received succesfully.\n"
     ]
    }
   ],
   "source": [
    "# Checkpoint: Check whether the connection is successfully established:\n",
    "url_1 = \"https://www.emlakjet.com/satilik-konut/istanbul/2/\"\n",
    "r = parse_request(url_1, check=True)"
   ]
  },
  {
   "cell_type": "code",
   "execution_count": 9,
   "metadata": {},
   "outputs": [],
   "source": [
    "'''\n",
    "* Create a list of URLs for 50 page.  \n",
    "'''\n",
    "\n",
    "# Create list of page URLs using a base URL\n",
    "base_url = \"https://www.emlakjet.com/satilik-konut/istanbul/\"\n",
    "page_url_list = [base_url]\n",
    "\n",
    "# Add page numbers to URLs\n",
    "for i in range (2,51):\n",
    "    page_url_list.append(base_url + str(i))\n",
    "\n",
    "# Print out the list of URLs\n",
    "#print(page_url_list)"
   ]
  },
  {
   "cell_type": "code",
   "execution_count": 10,
   "metadata": {},
   "outputs": [
    {
     "name": "stdout",
     "output_type": "stream",
     "text": [
      "I have found 1500 advert, an example of them is given below: \n",
      " http://www.emlakjet.com/ilan/safa-gyo-beylikduzu-marinaya-2-dk-kacmaz-lux-dubleks-firsati-12607526/\n"
     ]
    }
   ],
   "source": [
    "'''\n",
    "Create list of advert URLs from each page \n",
    "'''\n",
    "\n",
    "# Create empty list to be appended\n",
    "advert_url_list = []\n",
    "\n",
    "for page_url in page_url_list:\n",
    "    r = parse_request(page_url)\n",
    "\n",
    "    # Look for class '_3qUI9q' for each page and save them in a list\n",
    "    for link in r.find_all('a',{'class':'_3qUI9q'}):\n",
    "        advert_url_list.append('http://www.emlakjet.com' + link.get('href'))\n",
    "\n",
    "print(f\"I have found {len(advert_url_list)} advert, an example of them is given below: \\n {advert_url_list[0]}\")\n"
   ]
  },
  {
   "cell_type": "code",
   "execution_count": null,
   "metadata": {},
   "outputs": [],
   "source": [
    "'''\n",
    "1) Create 2 empty list to be appended. These two list will be used as a dictionary to form final dataframe.\n",
    "    a) Advert Keys (e.g., brüt m2, oda sayisi, bina yasi)\n",
    "    b) Advert Values (e.g., 110, 3+1, 16-20) \n",
    "\n",
    "2) Parse every single advert URL and retreive price from relevant div(s)\n",
    "    * Some pages does NOT have price, and it causes an error\n",
    "    a) Div1 - Price: Using try - except, instead of raising an error and therefore interrupt the loop, just simply fill the invalid ones with NAs.\n",
    "    b) Div2 - Location: Location information is stored as Şehir - İlçe - Mahalle. Using string methods, save them as different features.  \n",
    "    c) Div3 - Other Properties: Get properties and relevant values, and append into keys and values lists.\n",
    "\n",
    "3) Split [keys,values] list into two list [keys], [values]. \n",
    "'''\n",
    "\n",
    "# 1)\n",
    "props = []\n",
    "adv_props_key = []\n",
    "adv_props_val = []\n",
    "\n",
    "for advert in advert_url_list:\n",
    "    r = parse_request(advert)\n",
    "\n",
    "    adv_props = []\n",
    "\n",
    "    # 2a)\n",
    "    try:\n",
    "        price = r.find('div', attrs={'class': '_2TxNQv'}).text\n",
    "    \n",
    "        adv_props.append('Fiyat (TL)')\n",
    "        adv_props.append(price.split('TL')[0].replace(',',''))\n",
    "    except:\n",
    "        print(\"Couldn't find the price! Going on with the next advert..\")\n",
    "        adv_props.append('Fiyat (TL)')\n",
    "        adv_props.append('NA')\n",
    "    # 2b)\n",
    "    for location in r.find_all('div', attrs={'class': '_3VQ1JB'}):\n",
    "        #city-brough-neigbour list İstanbul, Beylikdüzü, Sahil Mah.\n",
    "        cbn_list = location.find('p').text.split('-')\n",
    "        cbn_list[0] = cbn_list[0].rstrip() \n",
    "        cbn_list[1] = cbn_list[1].lstrip().rstrip()\n",
    "        cbn_list[2] = cbn_list[2].lstrip().rstrip() \n",
    "\n",
    "        adv_props.append('Şehir')\n",
    "        adv_props.append(cbn_list[0])\n",
    "\n",
    "        adv_props.append('İlçe')\n",
    "        adv_props.append(cbn_list[1])\n",
    "\n",
    "        adv_props.append('Mahalle')\n",
    "        adv_props.append(cbn_list[2])\n",
    "\n",
    "    # 2c)\n",
    "    for prop in r.find_all('div',{'class':'_1bVOdb'}):\n",
    "        \n",
    "        adv_props.append(prop.get_text())\n",
    "\n",
    "    # 3)\n",
    "    adv_props_key.append(adv_props[0: :2])\n",
    "    adv_props_val.append(adv_props[1: :2])   \n"
   ]
  },
  {
   "cell_type": "code",
   "execution_count": 314,
   "metadata": {},
   "outputs": [
    {
     "name": "stdout",
     "output_type": "stream",
     "text": [
      "I have found many props!\n"
     ]
    }
   ],
   "source": [
    "# Checkpoint\n",
    "if ((len(adv_props_key) > 2) & (len(adv_props_val) > 2)): \n",
    "    print(f\"I have found many props!\")\n",
    "\n",
    "# print(f'Length:',len(adv_props_key))\n",
    "# print(f'Shape:',np.shape(adv_props_val))\n",
    "# print(adv_props_val)"
   ]
  },
  {
   "cell_type": "code",
   "execution_count": 273,
   "metadata": {},
   "outputs": [],
   "source": [
    "'''\n",
    "A function to create key-value dictionary from advert properties and convert them into pandas dataframe. \n",
    "\n",
    "Parameters: \n",
    "    keys: list\n",
    "        List of properties extracted from the adverts -- key\n",
    "\n",
    "    vals: list\n",
    "        List of properties' value extracted from the adverts -- value\n",
    "\n",
    "Returns: \n",
    "    df: Pandas DataFrame\n",
    "        Tabular data table that contains advert keys and values\n",
    "'''\n",
    "def df_creator(keys,vals):\n",
    "\n",
    "    df = pd.DataFrame([dict(zip(keys, vals))])\n",
    "\n",
    "    return df\n"
   ]
  },
  {
   "cell_type": "code",
   "execution_count": 307,
   "metadata": {},
   "outputs": [],
   "source": [
    "'''\n",
    "Initialize a dataframe using first row and expand the dataframe with the consecutive rows.\n",
    "'''\n",
    "all_adv_df = pd.DataFrame([dict(zip(adv_props_key[0], adv_props_val[0]))])\n",
    "\n",
    "for i in range(1,len(adv_props_key)):\n",
    "    temp_df = df_creator(adv_props_key[i],adv_props_val[i])\n",
    "    all_adv_df = pd.concat([all_adv_df,temp_df])\n"
   ]
  },
  {
   "cell_type": "code",
   "execution_count": null,
   "metadata": {},
   "outputs": [],
   "source": [
    "# Checkpoint: Display first few rows to check if everything is OK!\n",
    "all_adv_df.head()"
   ]
  },
  {
   "cell_type": "code",
   "execution_count": 311,
   "metadata": {},
   "outputs": [],
   "source": [
    "'''\n",
    "Everything should be OK. \n",
    "HOWEVER, rows contains units or some other strings to be removed.\n",
    "'''\n",
    "def remove_str(df, col, splitter = None, order = 0, new_col = None):\n",
    "    df[col] = df[col].str.split().str.get(order)\n",
    "\n",
    "    return df[col]\n",
    "\n",
    "all_adv_df['Brüt Metrekare'] = all_adv_df['Brüt Metrekare'].str.split().str.get(0)\n",
    "all_adv_df['Net Metrekare'] = all_adv_df['Brüt Metrekare'].str.split().str.get(0)\n",
    "all_adv_df['Kira Getirisi'] = all_adv_df['Kira Getirisi'].str.split().str.get(0)\n",
    "all_adv_df['Aidat'] = all_adv_df['Kira Getirisi'].str.split().str.get(0)\n",
    "all_adv_df['WC Sayısı'] = all_adv_df['WC Sayısı'].str.split().str.get(0)\n",
    "all_adv_df['WC Metrekare'] = all_adv_df['WC Metrekare'].str.split().str.get(0)\n",
    "all_adv_df['Banyo Metrekare'] = all_adv_df['Banyo Metrekare'].str.split().str.get(0)\n",
    "all_adv_df['Salon Metrekare'] = all_adv_df['Salon Metrekare'].str.split().str.get(0)\n",
    "\n",
    "# Some columns requires special treatments\n",
    "all_adv_df['Yaş Nümerik'] = all_adv_df['Binanın Yaşı'].str.split('-').str.get(0)\n",
    "all_adv_df['Normal Oda Sayısı'] = all_adv_df['Oda Sayısı'].str.split('+').str.get(0)\n",
    "all_adv_df['Salon Sayısı'] = all_adv_df['Oda Sayısı'].str.split('+').str.get(1)\n"
   ]
  },
  {
   "cell_type": "code",
   "execution_count": 310,
   "metadata": {},
   "outputs": [],
   "source": [
    "''' \n",
    "It is important to export to datafile as .csv or .xlsx to use it later w/o repeating time consuming (and unstable) steps.\n",
    "'''\n",
    "\n",
    "all_adv_df.to_excel('emlakjet_istanbul_%s.xlsx'%(datetime.now().date().strftime('%d_%m_%y'))) #emlakjet_istanbul_%s.csv"
   ]
  },
  {
   "cell_type": "code",
   "execution_count": 296,
   "metadata": {},
   "outputs": [],
   "source": [
    "# Convert some fields to numeric\n",
    "dict_to_numeric = {\"Brüt Metrekare\":'float', \n",
    "\"Binanın Kat Sayısı\":'float',\n",
    "\"Kira Getirisi\":'float',\n",
    "\"Banyo Sayısı\":'float',\n",
    "\"WC Metrekare\":'float',\n",
    "\"Net Metrekare\":'float',\n",
    "#\"Aidat\":'int', \n",
    "\"Banyo Metrekare\":'float',\n",
    "\"WC Sayısı\":'float',\n",
    "#\"Balkon Sayısı\":'float',\n",
    "\"Salon Metrekare\":'float',\n",
    "#\"Yaş Nümerik\":'int',\n",
    "\"Normal Oda Sayısı\":'float',\n",
    "\"Salon Sayısı\":'float',\n",
    "'Fiyat (TL)':'float'\n",
    "}\n",
    "\n",
    "\n",
    "all_adv_df = all_adv_df.astype(dict_to_numeric)"
   ]
  },
  {
   "cell_type": "code",
   "execution_count": 297,
   "metadata": {},
   "outputs": [],
   "source": [
    "all_adv_df['Toplam Oda Sayısı'] = all_adv_df['Normal Oda Sayısı'] + all_adv_df['Salon Sayısı']"
   ]
  }
 ],
 "metadata": {
  "kernelspec": {
   "display_name": "Python 3",
   "language": "python",
   "name": "python3"
  },
  "language_info": {
   "codemirror_mode": {
    "name": "ipython",
    "version": 3
   },
   "file_extension": ".py",
   "mimetype": "text/x-python",
   "name": "python",
   "nbconvert_exporter": "python",
   "pygments_lexer": "ipython3",
   "version": "3.10.7 (tags/v3.10.7:6cc6b13, Sep  5 2022, 14:08:36) [MSC v.1933 64 bit (AMD64)]"
  },
  "orig_nbformat": 4,
  "vscode": {
   "interpreter": {
    "hash": "9d4cf3646afb423126a22615235f27fe08b5580b0419a9fc25c56e523c1abb8a"
   }
  }
 },
 "nbformat": 4,
 "nbformat_minor": 2
}
